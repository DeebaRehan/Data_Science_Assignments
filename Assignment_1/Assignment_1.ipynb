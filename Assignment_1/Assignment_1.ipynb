{
 "cells": [
  {
   "cell_type": "code",
   "execution_count": 1,
   "id": "36c7b7e9",
   "metadata": {},
   "outputs": [
    {
     "name": "stdout",
     "output_type": "stream",
     "text": [
      "Twinkle, twinkle, little star,\n",
      "\t How I wonder what you are! \n",
      "\t\tUp above the world so high,\n",
      "\t\tLike a diamond in the sky.\n",
      "Twinkle, twinkle, little star,\n",
      "\t How I wonder what you are\n"
     ]
    }
   ],
   "source": [
    "# Question 1\n",
    "l1 = \"Twinkle, twinkle, little star,\\n\\t How I wonder what you are!\"\n",
    "l2 = \"\\n\\t\\tUp above the world so high,\\n\\t\\tLike a diamond in the sky.\"\n",
    "print(l1,l2+\"\\n\"+l1[:-1])"
   ]
  },
  {
   "cell_type": "code",
   "execution_count": 2,
   "id": "ea222db4",
   "metadata": {},
   "outputs": [
    {
     "name": "stdout",
     "output_type": "stream",
     "text": [
      "3.10.1\n"
     ]
    }
   ],
   "source": [
    "# Question 2\n",
    "from platform import python_version\n",
    "print(python_version())"
   ]
  },
  {
   "cell_type": "code",
   "execution_count": 3,
   "id": "3f2e5dc8",
   "metadata": {},
   "outputs": [
    {
     "name": "stdout",
     "output_type": "stream",
     "text": [
      "03:31 PM\n",
      "03 January 2022\n"
     ]
    }
   ],
   "source": [
    "# Question 3\n",
    "from datetime import datetime\n",
    "current = datetime.now()\n",
    "\n",
    "hour = current.strftime(\"%I\")\n",
    "min_ = current.strftime(\"%M\")\n",
    "format_ = current.strftime(\"%p\")\n",
    "\n",
    "\n",
    "date_ = current.strftime(\"%d\")\n",
    "month = current.strftime(\"%B\")\n",
    "year = current.strftime(\"%Y\")\n",
    "\n",
    "time = f\"{hour}:{min_} {format_}\\n\"\n",
    "date = f\"{date_} {month} {year}\"\n",
    "print(time+date)"
   ]
  },
  {
   "cell_type": "code",
   "execution_count": 4,
   "id": "5af32bb2",
   "metadata": {},
   "outputs": [
    {
     "name": "stdout",
     "output_type": "stream",
     "text": [
      "Enter the radius of circle :- 10\n",
      "314.0\n"
     ]
    }
   ],
   "source": [
    "# Question 4\n",
    "area = float(input(\"Enter the radius of circle :- \"))\n",
    "print(3.14*(area**2))"
   ]
  },
  {
   "cell_type": "code",
   "execution_count": 5,
   "id": "fa89f35f",
   "metadata": {},
   "outputs": [
    {
     "name": "stdout",
     "output_type": "stream",
     "text": [
      "Enter the First Name :- Deeba\n",
      "Enter the Last Name :- Khan\n",
      "abeeD nahK\n"
     ]
    }
   ],
   "source": [
    "# Question 5\n",
    "fname = input(\"Enter the First Name :- \")[::-1]\n",
    "lname = input(\"Enter the Last Name :- \")[::-1]\n",
    "reverse = (fname+\" \"+lname)\n",
    "print(reverse)"
   ]
  },
  {
   "cell_type": "code",
   "execution_count": 6,
   "id": "2f2c523e",
   "metadata": {},
   "outputs": [
    {
     "name": "stdout",
     "output_type": "stream",
     "text": [
      "Enter the value 1 :- 8\n",
      "Enter the value 2 :- 5\n",
      "13\n"
     ]
    }
   ],
   "source": [
    "# Question 6\n",
    "v1 = int(input(\"Enter the value 1 :- \"))\n",
    "v2 = int(input(\"Enter the value 2 :- \"))\n",
    "print(v1+v2)"
   ]
  }
 ],
 "metadata": {
  "kernelspec": {
   "display_name": "Python 3 (ipykernel)",
   "language": "python",
   "name": "python3"
  },
  "language_info": {
   "codemirror_mode": {
    "name": "ipython",
    "version": 3
   },
   "file_extension": ".py",
   "mimetype": "text/x-python",
   "name": "python",
   "nbconvert_exporter": "python",
   "pygments_lexer": "ipython3",
   "version": "3.10.1"
  }
 },
 "nbformat": 4,
 "nbformat_minor": 5
}
